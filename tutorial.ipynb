{
 "cells": [
  {
   "cell_type": "markdown",
   "metadata": {
    "collapsed": false
   },
   "source": [
    "# TarDAL online tutorial | CVPR 2022\n",
    "\n",
    "This is the **official** TarDAL notebook, and is freely available for everyone.\n",
    "For more information please visit [GitHub Repository](https://github.com/JinyuanLiu-CV/TarDAL).\n",
    "Thank you!"
   ]
  },
  {
   "cell_type": "markdown",
   "metadata": {
    "collapsed": false
   },
   "source": [
    "## Setup Environment\n",
    "\n",
    "Install requirements for TarDAL."
   ]
  },
  {
   "cell_type": "markdown",
   "metadata": {
    "collapsed": false
   },
   "source": [
    "## Fuse or Eval\n",
    "\n",
    "### Init TarDAL Model"
   ]
  },
  {
   "cell_type": "code",
   "execution_count": 3,
   "metadata": {
    "collapsed": false,
    "pycharm": {
     "name": "#%%\n"
    }
   },
   "outputs": [
    {
     "name": "stdout",
     "output_type": "stream",
     "text": [
      "Generator(\n",
      "  (encoder): Sequential(\n",
      "    (0): Conv2d(2, 32, kernel_size=(3, 3), stride=(1, 1), padding=(1, 1))\n",
      "    (1): BatchNorm2d(32, eps=1e-05, momentum=0.1, affine=True, track_running_stats=True)\n",
      "    (2): ReLU()\n",
      "  )\n",
      "  (dense): ModuleList(\n",
      "    (0): Sequential(\n",
      "      (0): Conv2d(32, 32, kernel_size=(3, 3), stride=(1, 1), padding=(1, 1))\n",
      "      (1): BatchNorm2d(32, eps=1e-05, momentum=0.1, affine=True, track_running_stats=True)\n",
      "      (2): ReLU()\n",
      "    )\n",
      "    (1): Sequential(\n",
      "      (0): Conv2d(64, 32, kernel_size=(3, 3), stride=(1, 1), padding=(1, 1))\n",
      "      (1): BatchNorm2d(32, eps=1e-05, momentum=0.1, affine=True, track_running_stats=True)\n",
      "      (2): ReLU()\n",
      "    )\n",
      "    (2): Sequential(\n",
      "      (0): Conv2d(96, 32, kernel_size=(3, 3), stride=(1, 1), padding=(1, 1))\n",
      "      (1): BatchNorm2d(32, eps=1e-05, momentum=0.1, affine=True, track_running_stats=True)\n",
      "      (2): ReLU()\n",
      "    )\n",
      "  )\n",
      "  (fuse): Sequential(\n",
      "    (0): Sequential(\n",
      "      (0): Conv2d(128, 128, kernel_size=(3, 3), stride=(1, 1), padding=(1, 1))\n",
      "      (1): ReLU()\n",
      "    )\n",
      "    (1): Sequential(\n",
      "      (0): Conv2d(128, 64, kernel_size=(3, 3), stride=(1, 1), padding=(1, 1))\n",
      "      (1): BatchNorm2d(64, eps=1e-05, momentum=0.1, affine=True, track_running_stats=True)\n",
      "      (2): ReLU()\n",
      "    )\n",
      "    (2): Sequential(\n",
      "      (0): Conv2d(64, 32, kernel_size=(3, 3), stride=(1, 1), padding=(1, 1))\n",
      "      (1): BatchNorm2d(32, eps=1e-05, momentum=0.1, affine=True, track_running_stats=True)\n",
      "      (2): ReLU()\n",
      "    )\n",
      "    (3): Sequential(\n",
      "      (0): Conv2d(32, 1, kernel_size=(3, 3), stride=(1, 1), padding=(1, 1))\n",
      "      (1): Tanh()\n",
      "    )\n",
      "  )\n",
      ")\n"
     ]
    }
   ],
   "source": [
    "import torch\n",
    "\n",
    "from modules.generator import Generator\n",
    "\n",
    "# init model\n",
    "DIM, DEPTH = 32, 3\n",
    "net = Generator(dim=DIM, depth=DEPTH)\n",
    "\n",
    "# load our pre-trained model\n",
    "ID = 'weights/tardal++.pt' # tardal could be replaced with tardal+ or tardal++\n",
    "ck_pt = torch.load(ID)\n",
    "net.load_state_dict(ck_pt)\n",
    "print(net)"
   ]
  },
  {
   "cell_type": "markdown",
   "metadata": {
    "collapsed": false
   },
   "source": [
    "<!-- \n",
    "### Load Image (List)\n",
    "\n",
    "infrared image(s):\n",
    "![infrared](data/sample/s1/ir/M3FD_00471.png)\n",
    "\n",
    "visible image(s):\n",
    "![infrared](data/sample/s1/vi/M3FD_00471.png) -->\n",
    "\n",
    "### Fuse (Network Forward)"
   ]
  },
  {
   "cell_type": "code",
   "execution_count": 4,
   "metadata": {
    "collapsed": false,
    "pycharm": {
     "name": "#%%\n"
    }
   },
   "outputs": [
    {
     "name": "stderr",
     "output_type": "stream",
     "text": [
      "fusing 20201018_115932_069_R | device: cuda: 100%|██████████| 60/60 [00:01<00:00, 41.72it/s]\n"
     ]
    }
   ],
   "source": [
    "from pathlib import Path\n",
    "from IPython import display\n",
    "from pipeline.eval import Eval\n",
    "\n",
    "CUDNN = False # use cudnn boost (recommend only if images are in same size)\n",
    "HALF = False # use float16 instead of float32 for faster speed\n",
    "EVAL = '+' in ID # use eval mode for tardal+ and tardal++\n",
    "COLOR = False # colorize fused image(s) with corresponding visible image(s)\n",
    "\n",
    "def get_images(path):\n",
    "    for file in path.glob('*.png'):\n",
    "        yield Path(file)\n",
    "\n",
    "# fuse infrared and visible image(s)\n",
    "eval = Eval(net, cudnn=CUDNN, half=HALF, eval=EVAL)\n",
    "# path = Path('data/sample/s1')\n",
    "# eval([path / 'ir/M3FD_00471.png'], [path / 'vi/M3FD_00471.png'], Path('runs/sample/s1'), color=COLOR)\n",
    "eval([ img for img in get_images(Path('data/sample/irfissure/ir')) ], [ img for img in get_images(Path('data/sample/irfissure/vis')) ], Path('runs/tardal'), color=COLOR)\n",
    "\n",
    "# display sample\n",
    "# display.Image('runs/sample/irfissure/20201018_115929_966_R.png')\n"
   ]
  }
 ],
 "metadata": {
  "kernelspec": {
   "display_name": "Python 3.8.13 ('tardal')",
   "language": "python",
   "name": "python3"
  },
  "language_info": {
   "codemirror_mode": {
    "name": "ipython",
    "version": 3
   },
   "file_extension": ".py",
   "mimetype": "text/x-python",
   "name": "python",
   "nbconvert_exporter": "python",
   "pygments_lexer": "ipython3",
   "version": "3.8.13"
  },
  "vscode": {
   "interpreter": {
    "hash": "7032bf2ed0e93217b7649a03fb26b4338eac53651da6797d8e19b17b663d8c08"
   }
  }
 },
 "nbformat": 4,
 "nbformat_minor": 0
}
